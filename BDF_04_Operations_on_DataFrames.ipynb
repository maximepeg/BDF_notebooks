{
  "cells": [
    {
      "cell_type": "markdown",
      "metadata": {
        "id": "view-in-github",
        "colab_type": "text"
      },
      "source": [
        "<a href=\"https://colab.research.google.com/github/maximepeg/BDF_notebooks/blob/main/BDF_04_Operations_on_DataFrames.ipynb\" target=\"_parent\"><img src=\"https://colab.research.google.com/assets/colab-badge.svg\" alt=\"Open In Colab\"/></a>"
      ]
    },
    {
      "cell_type": "markdown",
      "metadata": {
        "id": "Z-h_wDcNlH_K"
      },
      "source": [
        "#00 - Configuration of Apache Spark on Collaboratory\n"
      ]
    },
    {
      "cell_type": "markdown",
      "metadata": {
        "id": "kvD4HBMi0ohY"
      },
      "source": [
        "###Installing Java, Spark, and Findspark\n",
        "\n",
        "\n",
        "---\n",
        "\n",
        "\n",
        "This code installs Apache Spark 2.2.1, Java 8, and [Findspark](https://github.com/minrk/findspark), a library that makes it easy for Python to find Spark."
      ]
    },
    {
      "cell_type": "code",
      "execution_count": null,
      "metadata": {
        "colab": {
          "base_uri": "https://localhost:8080/"
        },
        "id": "KsAfQ0CrgnWf",
        "outputId": "13d0db30-d132-48f7-c2fa-95a2c02234a5"
      },
      "outputs": [
        {
          "output_type": "stream",
          "name": "stdout",
          "text": [
            "Get:1 https://cloud.r-project.org/bin/linux/ubuntu focal-cran40/ InRelease [3,622 B]\n",
            "Get:2 http://ppa.launchpad.net/c2d4u.team/c2d4u4.0+/ubuntu focal InRelease [18.1 kB]\n",
            "Hit:3 http://archive.ubuntu.com/ubuntu focal InRelease\n",
            "Ign:4 https://developer.download.nvidia.com/compute/machine-learning/repos/ubuntu2004/x86_64  InRelease\n",
            "Hit:5 https://developer.download.nvidia.com/compute/cuda/repos/ubuntu2004/x86_64  InRelease\n",
            "Hit:6 https://developer.download.nvidia.com/compute/machine-learning/repos/ubuntu2004/x86_64  Release\n",
            "Get:7 http://security.ubuntu.com/ubuntu focal-security InRelease [114 kB]\n",
            "Get:8 http://archive.ubuntu.com/ubuntu focal-updates InRelease [114 kB]\n",
            "Hit:9 http://ppa.launchpad.net/cran/libgit2/ubuntu focal InRelease\n",
            "Hit:10 http://ppa.launchpad.net/deadsnakes/ppa/ubuntu focal InRelease\n",
            "Get:11 http://archive.ubuntu.com/ubuntu focal-backports InRelease [108 kB]\n",
            "Hit:12 http://ppa.launchpad.net/graphics-drivers/ppa/ubuntu focal InRelease\n",
            "Get:14 http://ppa.launchpad.net/c2d4u.team/c2d4u4.0+/ubuntu focal/main Sources [2,377 kB]\n",
            "Get:15 http://ppa.launchpad.net/c2d4u.team/c2d4u4.0+/ubuntu focal/main amd64 Packages [1,126 kB]\n",
            "Get:16 http://security.ubuntu.com/ubuntu focal-security/universe amd64 Packages [982 kB]\n",
            "Get:17 http://security.ubuntu.com/ubuntu focal-security/main amd64 Packages [2,436 kB]\n",
            "Get:18 http://archive.ubuntu.com/ubuntu focal-updates/universe amd64 Packages [1,284 kB]\n",
            "Get:19 http://archive.ubuntu.com/ubuntu focal-updates/main amd64 Packages [2,909 kB]\n",
            "Get:20 http://archive.ubuntu.com/ubuntu focal-updates/restricted amd64 Packages [2,003 kB]\n",
            "Fetched 13.5 MB in 8s (1,597 kB/s)\n",
            "Reading package lists... Done\n",
            "--2023-01-23 00:29:07--  http://apache.osuosl.org/spark/spark-3.3.1/spark-3.3.1-bin-hadoop3.tgz\n",
            "Resolving apache.osuosl.org (apache.osuosl.org)... 64.50.233.100, 140.211.166.134, 64.50.236.52, ...\n",
            "Connecting to apache.osuosl.org (apache.osuosl.org)|64.50.233.100|:80... connected.\n",
            "HTTP request sent, awaiting response... 200 OK\n",
            "Length: 299350810 (285M) [application/x-gzip]\n",
            "Saving to: ‘spark-3.3.1-bin-hadoop3.tgz’\n",
            "\n",
            "spark-3.3.1-bin-had 100%[===================>] 285.48M  83.0MB/s    in 6.0s    \n",
            "\n",
            "2023-01-23 00:29:13 (47.9 MB/s) - ‘spark-3.3.1-bin-hadoop3.tgz’ saved [299350810/299350810]\n",
            "\n"
          ]
        }
      ],
      "source": [
        "!apt-get update\n",
        "!apt-get install openjdk-8-jdk-headless -qq > /dev/null\n",
        "!wget  http://apache.osuosl.org/spark/spark-3.3.1/spark-3.3.1-bin-hadoop3.tgz  \n",
        "!tar xf spark-3.3.1-bin-hadoop3.tgz  \n",
        "!rm spark-3.3.1-bin-hadoop3.tgz    \n",
        "!pip install -q findspark"
      ]
    },
    {
      "cell_type": "markdown",
      "metadata": {
        "id": "b4Kjvk_h1AHl"
      },
      "source": [
        "### Set Environment Variables\n",
        "Set the locations where Spark and Java are installed."
      ]
    },
    {
      "cell_type": "code",
      "execution_count": null,
      "metadata": {
        "colab": {
          "base_uri": "https://localhost:8080/"
        },
        "id": "hiOoj3rUgnVx",
        "outputId": "39f8af98-bdc6-41b5-aee7-75a5868e3c4d"
      },
      "outputs": [
        {
          "output_type": "stream",
          "name": "stdout",
          "text": [
            "rm: cannot remove '/content/spark': No such file or directory\n",
            "/content/spark/\n",
            "DRIVE_DATA=/content/gdrive/My Drive/Enseignement/2022-2023/ING3/HPDA/BigDataFrameworks/data/\n"
          ]
        }
      ],
      "source": [
        "import os\n",
        "os.environ[\"JAVA_HOME\"] = \"/usr/lib/jvm/java-8-openjdk-amd64\"\n",
        "os.environ[\"SPARK_HOME\"] = \"/content/spark/\"\n",
        "os.environ[\"DRIVE_DATA\"] = \"/content/gdrive/My Drive/Enseignement/2022-2023/ING3/HPDA/BigDataFrameworks/data/\"\n",
        "\n",
        "!rm /content/spark\n",
        "!ln -s /content/spark-3.3.1-bin-hadoop3 /content/spark\n",
        "!export SPARK_HOME=/content/spark\n",
        "!export PATH=$PATH:$SPARK_HOME/bin:$SPARK_HOME/sbin\n",
        "!echo $SPARK_HOME\n",
        "!env |grep  \"DRIVE_DATA\""
      ]
    },
    {
      "cell_type": "markdown",
      "metadata": {
        "id": "NwU28K5f1H3P"
      },
      "source": [
        "### Start a SparkSession\n",
        "This will start a local Spark session."
      ]
    },
    {
      "cell_type": "code",
      "execution_count": null,
      "metadata": {
        "colab": {
          "base_uri": "https://localhost:8080/"
        },
        "id": "zgReRGl0y23D",
        "outputId": "7af1b4ec-8978-477d-ab76-fc6e73e97503"
      },
      "outputs": [
        {
          "output_type": "stream",
          "name": "stdout",
          "text": [
            "Python 3.8.10\n",
            "PySpark version 3.3.1\n"
          ]
        },
        {
          "output_type": "execute_result",
          "data": {
            "text/plain": [
              "[2, 3]"
            ]
          },
          "metadata": {},
          "execution_count": 6
        }
      ],
      "source": [
        "!python -V\n",
        "\n",
        "import findspark\n",
        "findspark.init()\n",
        "\n",
        "from pyspark import SparkContext\n",
        "sc = SparkContext.getOrCreate()\n",
        "\n",
        "# Example: shows the PySpark version\n",
        "print(\"PySpark version {0}\".format(sc.version))\n",
        "\n",
        "# Example: parallelise an array and show the 2 first elements\n",
        "sc.parallelize([2, 3, 4, 5, 6]).cache().take(2)"
      ]
    },
    {
      "cell_type": "code",
      "execution_count": null,
      "metadata": {
        "id": "PBca_LsWxnx2"
      },
      "outputs": [],
      "source": [
        "from pyspark.sql import SparkSession\n",
        "# We create a SparkSession object (or we retrieve it if it is already created)\n",
        "spark = SparkSession \\\n",
        ".builder \\\n",
        ".appName(\"My application\") \\\n",
        ".config(\"spark.some.config.option\", \"some-value\") \\\n",
        ".master(\"local[4]\") \\\n",
        ".getOrCreate()\n",
        "# We get the SparkContext\n",
        "sc = spark.sparkContext"
      ]
    },
    {
      "cell_type": "code",
      "execution_count": null,
      "metadata": {
        "colab": {
          "base_uri": "https://localhost:8080/"
        },
        "id": "7irzXK6Nvt8b",
        "outputId": "b26fac7d-94b6-43ac-9ce3-b516535cea9d"
      },
      "outputs": [
        {
          "output_type": "stream",
          "name": "stdout",
          "text": [
            "Mounted at /content/gdrive\n"
          ]
        }
      ],
      "source": [
        "# Mount Google Drive\n",
        "from google.colab import drive\n",
        "drive.mount('/content/gdrive')"
      ]
    },
    {
      "cell_type": "markdown",
      "metadata": {
        "id": "fkKGBZRvEwZL"
      },
      "source": [
        "\n",
        "\n",
        "---\n",
        "\n",
        "\n",
        "# 04 - Operations with DataFrames"
      ]
    },
    {
      "cell_type": "markdown",
      "metadata": {
        "id": "qcr9KTJbJI_4"
      },
      "source": [
        "We are going to see different operations that can be performed with DataFrames:\n",
        "\n",
        "  - Row filtering\n",
        "  - Sorting and grouping\n",
        "  - Joins\n",
        "  - Scalar functions and aggregations\n",
        "  - Using them with complex types\n",
        "  - Window functions\n",
        "  - User-defined functions\n",
        " \n",
        "We will end up seeing how to use SQL requests on DataFrames\n",
        "  "
      ]
    },
    {
      "cell_type": "markdown",
      "metadata": {
        "id": "hH1tMsjx8-sl"
      },
      "source": [
        "As for reading, Spark can save DateFrames in multiple formats:\n",
        "\n",
        "- CSV, JSON, Parquet, Hadoop...\n",
        "\n",
        "It can write them as well on a database"
      ]
    },
    {
      "cell_type": "code",
      "execution_count": null,
      "metadata": {
        "colab": {
          "background_save": true
        },
        "id": "u8HjKeILIiCI",
        "outputId": "bdc01d5a-a406-4f76-d563-3d703fd33135"
      },
      "outputs": [
        {
          "data": {
            "text/plain": [
              "DataFrame[nComs: int, lastActivity: timestamp, userId: bigint, body: string, score: int, Creation_date: timestamp, numViewed: int, title: string, tags: string, nAnswers: int, acceptedAnswerId: bigint, postType: tinyint, id: bigint]"
            ]
          },
          "execution_count": 7,
          "metadata": {},
          "output_type": "execute_result"
        }
      ],
      "source": [
        "#Retrieve a DataFrame reading it from the Parquet format\n",
        "dfSE = spark.read\\\n",
        "            .format(\"parquet\")\\\n",
        "            .option(\"mode\", \"FAILFAST\")\\\n",
        "            .load(os.environ[\"DRIVE_DATA\"] + \"dfSE.parquet\")\n",
        "dfSE.cache()"
      ]
    },
    {
      "cell_type": "code",
      "execution_count": null,
      "metadata": {
        "id": "QynVQ-HVfAmQ"
      },
      "outputs": [],
      "source": [
        "dfSE.show(5)\n",
        "dfSE.printSchema()"
      ]
    },
    {
      "cell_type": "markdown",
      "metadata": {
        "id": "kG1IQyhIfHnb"
      },
      "source": [
        "## Filter operations"
      ]
    },
    {
      "cell_type": "code",
      "execution_count": null,
      "metadata": {
        "id": "_hs2OsMefIXm"
      },
      "outputs": [],
      "source": [
        "# Select those posts that contain the word 'Italiano' in their body\n",
        "from pyspark.sql.functions import col\n",
        "\n",
        "colBody = col(\"body\")\n",
        "dfItaliano = dfSE.filter(colBody.like('%Italiano%'))\n",
        "\n",
        "print(\"Number of posts with the word Italiano: {0}\\n\".format(dfItaliano.count()))\n",
        "  \n",
        "print(\"Show the first line\")\n",
        "dfItaliano.take(1)"
      ]
    },
    {
      "cell_type": "code",
      "execution_count": null,
      "metadata": {
        "id": "7mlCziy5fPI7"
      },
      "outputs": [],
      "source": [
        "# Retrieve the questions (postType == 1) which have an accepted reply (acceptedAnswerID != null)\n",
        "# Note: where() is an alias of filter()\n",
        "\n",
        "colPostType = col(\"postType\")\n",
        "colAcceptedReplyId = col(\"acceptedAnswerId\")\n",
        "\n",
        "dfQuestionWithAcceptedReply = dfSE\\\n",
        "                    .where((colPostType == 1) & (colAcceptedReplyId.isNotNull()))\\\n",
        "                    .withColumnRenamed(\"Creation_date\", \"Date_of_creation\")\n",
        "\n",
        "print(\"Number of questions with an accepted reply: {0}\"\\\n",
        "      .format(dfQuestionWithAcceptedReply.count()))\n",
        "\n",
        "dfQuestionWithAcceptedReply.cache()      \n",
        "\n",
        "dfQuestionWithAcceptedReply\\\n",
        "        .select(\"Date_of_creation\", colPostType.alias(\"Post Type\"), colAcceptedReplyId)\\\n",
        "        .show(truncate=False)"
      ]
    },
    {
      "cell_type": "code",
      "execution_count": null,
      "metadata": {
        "id": "dQB_ERIcfTGO"
      },
      "outputs": [],
      "source": [
        "# Keep the entries corresponding to June 2014\n",
        "from datetime import date\n",
        "\n",
        "colCreationDate = col(\"Date_of_creation\")\n",
        "\n",
        "dfQuestionWithAcceptedReplyJun14 = dfQuestionWithAcceptedReply\\\n",
        "                    .filter((colCreationDate >= date(2014,6,1)) & \n",
        "                            (colCreationDate <= date(2014,6,30)))\n",
        "\n",
        "dfQuestionWithAcceptedReplyJun14.select(colCreationDate, colPostType, colAcceptedReplyId).show(truncate=False)"
      ]
    },
    {
      "cell_type": "code",
      "execution_count": null,
      "metadata": {
        "id": "IzquPGw-fjHu"
      },
      "outputs": [],
      "source": [
        "# Add a column with the ratio between the number of visits and the score of the question\n",
        "colNumViews = col(\"numViewed\")\n",
        "colPoints = col(\"score\")\n",
        "dfQuestionWithAcceptedReplyRatio = dfQuestionWithAcceptedReply.withColumn(\"ratio\", colNumViews/colPoints)\n",
        "\n",
        "# Shows some columns with ratio > 35\n",
        "colRatio = col(\"ratio\")\n",
        "dfQuestionWithAcceptedReplyRatio.filter(colRatio > 35)\\\n",
        "                        .select(colCreationDate, colNumViews, colPoints, colRatio)\\\n",
        "                        .show(truncate=False)"
      ]
    },
    {
      "cell_type": "markdown",
      "metadata": {
        "id": "Kk517hNifmmC"
      },
      "source": [
        "## Sorting and grouping operations"
      ]
    },
    {
      "cell_type": "code",
      "execution_count": null,
      "metadata": {
        "id": "_l3saJy9fnZD"
      },
      "outputs": [],
      "source": [
        "# Sorting by viewCount\n",
        "dfQuestionWithAcceptedReply.orderBy(colNumViews, ascending=False)\\\n",
        "                  .select(colCreationDate, colNumViews)\\\n",
        "                  .show(10, truncate=False)"
      ]
    },
    {
      "cell_type": "code",
      "execution_count": null,
      "metadata": {
        "id": "1WWLLBRs5F6H"
      },
      "outputs": [],
      "source": []
    },
    {
      "cell_type": "code",
      "execution_count": null,
      "metadata": {
        "id": "B79cu3aqfpmR"
      },
      "outputs": [],
      "source": [
        "# Grouping by the userId column\n",
        "colUserId = col(\"userId\")\n",
        "groupByUser = dfQuestionWithAcceptedReply.groupBy(colUserId)\n",
        "print(type(groupByUser))"
      ]
    },
    {
      "cell_type": "code",
      "execution_count": null,
      "metadata": {
        "id": "dQkxaC1dfrvh"
      },
      "outputs": [],
      "source": [
        "print(\"DataFrame with the number of posts by user\")\n",
        "dfPostsByUser = groupByUser.count()\n",
        "dfPostsByUser.printSchema()\n",
        "\n",
        "colNPosts = col(\"count\")\n",
        "dfPostsByUser.select(colUserId.alias(\"User number\"), \n",
        "                        colNPosts.alias(\"Number of posts\"))\\\n",
        "                .orderBy(colUserId).show(10)"
      ]
    },
    {
      "cell_type": "code",
      "execution_count": null,
      "metadata": {
        "id": "R6_KnTBoft2b"
      },
      "outputs": [],
      "source": [
        "print(\"DataFrame with the average number of views per user\")\n",
        "dfAvgPerUser = groupByUser.avg(\"numViewed\")\n",
        "dfAvgPerUser.orderBy(colUserId).show(10)"
      ]
    },
    {
      "cell_type": "code",
      "execution_count": null,
      "metadata": {
        "id": "BWD4Hv7rfv0b"
      },
      "outputs": [],
      "source": [
        "# The 'agg' method allows grouping operations expressed as a dictionary {column_name:operation}\n",
        "print(\"Obtain the previous tables with a single operation\")\n",
        "dfCountAvg = groupByUser.agg({\"userId\":\"count\", \"numViewed\":\"avg\"})\n",
        "dfCountAvg.printSchema()\n",
        "\n",
        "colCount = col(\"count(userId)\")\n",
        "colMedia = col(\"avg(numViewed)\")\n",
        "dfCountAvg.select(colUserId.alias(\"User number\"), \n",
        "                   colCount.alias(\"Number of posts\"), \n",
        "                   colMedia.alias(\"Views average\"))\\\n",
        "                  .orderBy(colUserId).show(10)"
      ]
    },
    {
      "cell_type": "code",
      "execution_count": null,
      "metadata": {
        "id": "ZAiW6qzffyN4"
      },
      "outputs": [],
      "source": [
        "# Grouping on two columns\n",
        "dfSE.groupBy(colUserId, colPostType)\\\n",
        "    .count()\\\n",
        "    .sort(colUserId, colPostType)\\\n",
        "    .show()"
      ]
    },
    {
      "cell_type": "markdown",
      "metadata": {
        "id": "GVki8IlIf3kU"
      },
      "source": [
        "A description of the functions used with GroupedData can be found on https://spark.apache.org/docs/latest/api/python/reference/pyspark.sql.html#grouping"
      ]
    },
    {
      "cell_type": "markdown",
      "metadata": {
        "id": "9JHE1mPef7BI"
      },
      "source": [
        "### Advanced grouping\n",
        "\n",
        "It is possible to group data on more than one column: `Rollups` and `Cube`"
      ]
    },
    {
      "cell_type": "markdown",
      "metadata": {
        "id": "F5N2QB-qf-Dp"
      },
      "source": [
        "#### Rollups\n",
        "\n",
        "Grouping by multiple columns, including aggregations by the first column."
      ]
    },
    {
      "cell_type": "code",
      "execution_count": null,
      "metadata": {
        "id": "kTOuTUEhf0w4"
      },
      "outputs": [],
      "source": [
        "# For each user, count the number of questions (postType == 1) and the number of replies (postType == 2)\n",
        "rollupPerUserAndPostType = dfSE.rollup(\"userId\", \"postType\")\n",
        "print(type(rollupPerUserAndPostType))"
      ]
    },
    {
      "cell_type": "code",
      "execution_count": null,
      "metadata": {
        "id": "f4k-5enfgBt0"
      },
      "outputs": [],
      "source": [
        "# DataFrame with the number of posts per user and 'Question' post type\n",
        "# Null fields are aggregation fields. For example:\n",
        "# null null = all posts\n",
        "# 4    null = all posts from user with id 4\n",
        "# 4    1    = all posts of type 1 from user with id 4\n",
        "# NOTE: disregard posts with types 4 and 5.\n",
        "dfPostPerUserAndType = rollupPerUserAndPostType.count()\n",
        "dfPostPerUserAndType.printSchema()\n",
        "dfPostPerUserAndType.select(colUserId.alias(\"User number\"), \n",
        "                             colPostType.alias(\"Post type\"),\n",
        "                             colNPosts.alias(\"Number of posts\"))\\\n",
        "                     .orderBy(colUserId,colPostType)\\\n",
        "                     .show(100)"
      ]
    },
    {
      "cell_type": "markdown",
      "metadata": {
        "id": "3OAwGuDbgE3A"
      },
      "source": [
        "#### Cubes\n",
        "\n",
        "Similar to Rollups, but going through all dimensions."
      ]
    },
    {
      "cell_type": "code",
      "execution_count": null,
      "metadata": {
        "id": "ZVNxjbsPgHSW"
      },
      "outputs": [],
      "source": [
        "groupByUserAndPostType = dfSE.cube(\"userId\", \"postType\")\n",
        "print(type(groupByUserAndPostType))"
      ]
    },
    {
      "cell_type": "code",
      "execution_count": null,
      "metadata": {
        "id": "XOcJXNHegJSz"
      },
      "outputs": [],
      "source": [
        "# # DataFrame with the number of posts per user and 'Question' post type\n",
        "# Null fields are aggregation fields. For example:\n",
        "# null null = all posts\n",
        "# null 1    = all post of type 1\n",
        "# 4    null = all posts from user with id 4\n",
        "# 4    1    = all posts of type 1 from user with id 4\n",
        "# NOTE: disregard posts with types 4 and 5.\n",
        "dfPostPerUserAndType = groupByUserAndPostType.count()\n",
        "dfPostPerUserAndType.printSchema()\n",
        "dfPostPerUserAndType.select(colUserId.alias(\"User number\"), \n",
        "                             colPostType.alias(\"Post type\"),\n",
        "                             colNPosts.alias(\"Number of posts\"))\\\n",
        "                     .orderBy(colUserId,colPostType)\\\n",
        "                     .show(100)"
      ]
    },
    {
      "cell_type": "markdown",
      "metadata": {
        "id": "EaTiWe8AgMRe"
      },
      "source": [
        "## Joins\n",
        "Spark offers the possibility of performing multiple types of joins (as in SQL)\n",
        "\n",
        "  - inner, outer, left outer, right outer, left semi, left anti, cross"
      ]
    },
    {
      "cell_type": "code",
      "execution_count": null,
      "metadata": {
        "id": "Wotj0yOHgN8s"
      },
      "outputs": [],
      "source": [
        "# We want to join each question that has an accepted reply with the actual reply chosen as the accepted answer\n",
        "# We join the colAcceptedReplyId field from the questions with the id field from the answers\n",
        "dfQuestions = dfQuestionWithAcceptedReply\\\n",
        "                .select(colUserId, colBody, colAcceptedReplyId)\\\n",
        "                .withColumnRenamed(\"userId\", \"User question\")\\\n",
        "                .withColumnRenamed(\"body\", \"Question\")\\\n",
        "                .withColumnRenamed(\"acceptedAnswerId\", \"ID Accepted Reply\")\n",
        "\n",
        "colId = col(\"id\")                \n",
        "dfReplies = dfSE\\\n",
        "                .select(colId, colUserId, colBody)\\\n",
        "                .where(colPostType == 2)\\\n",
        "                .withColumnRenamed(\"id\", \"ID Reply\")\\\n",
        "                .withColumnRenamed(\"userId\", \"User reply\")\\\n",
        "                .withColumnRenamed(\"body\", \"Reply\")\n",
        "\n",
        "nQuestions = dfQuestions.count()\n",
        "nReplies = dfReplies.count()\n",
        "print(\"Number of questions with an accepted reply = {0}\".format(nQuestions))\n",
        "print(\"Number of replies = {0}\".format(nReplies))"
      ]
    },
    {
      "cell_type": "code",
      "execution_count": null,
      "metadata": {
        "id": "F53DitxIVijS"
      },
      "outputs": [],
      "source": [
        "dfQuestions.show()\n",
        "dfReplies.show()"
      ]
    },
    {
      "cell_type": "code",
      "execution_count": null,
      "metadata": {
        "id": "NX8OeXkugjid"
      },
      "outputs": [],
      "source": [
        "# Join expression\n",
        "joinExpression = dfQuestions[\"ID Accepted Reply\"] == dfReplies[\"ID Reply\"]"
      ]
    },
    {
      "cell_type": "code",
      "execution_count": null,
      "metadata": {
        "id": "DtLpashygmtI"
      },
      "outputs": [],
      "source": [
        "# Inner join\n",
        "# Include only rows for which the joinExpression is true\n",
        "joinType = \"inner\"\n",
        "dfInner = dfQuestions.join(dfReplies, joinExpression, joinType)\n",
        "nRows = dfInner.count()\n",
        "print(\"Number of rows = {0}\".format(nRows))\n",
        "dfInner.show(nRows)"
      ]
    },
    {
      "cell_type": "code",
      "execution_count": null,
      "metadata": {
        "id": "V340E9Gagpge"
      },
      "outputs": [],
      "source": [
        "# Outer join\n",
        "# Include all rows from both DataFrames.\n",
        "# In the case there are no matching values on any of the DataFrames, give a null value.\n",
        "joinType = \"outer\"\n",
        "dfOuter = dfQuestions.join(dfReplies, joinExpression, joinType)\n",
        "nRows = dfOuter.count()\n",
        "print(\"Number of rows = {0}\".format(nRows))\n",
        "dfOuter.show(nRows)"
      ]
    },
    {
      "cell_type": "code",
      "execution_count": null,
      "metadata": {
        "id": "qjz9xalggrcI"
      },
      "outputs": [],
      "source": [
        "# Left Outer join\n",
        "# Include all rows from the left DataFrame (first DataFrame)\n",
        "# If there are no matching values on the right DataFrame, give a null value.\n",
        "joinType = \"left_outer\"\n",
        "dfLOuter = dfQuestions.join(dfReplies, joinExpression, joinType)\n",
        "nRows = dfLOuter.count()\n",
        "print(\"Number of rows = {0}\".format(nRows))\n",
        "dfLOuter.show(nRows)"
      ]
    },
    {
      "cell_type": "code",
      "execution_count": null,
      "metadata": {
        "id": "6REiXj9K6XC6"
      },
      "outputs": [],
      "source": []
    },
    {
      "cell_type": "code",
      "execution_count": null,
      "metadata": {
        "id": "xcJe0BegguEk"
      },
      "outputs": [],
      "source": [
        "# Right Outer join\n",
        "# Include all rows from the right DataFrame (second DataFrame)\n",
        "# If there are no matching values on the left DataFrame, give a null value.\n",
        "joinType = \"right_outer\"\n",
        "dfROuter = dfQuestions.join(dfReplies, joinExpression, joinType)\n",
        "nRows = dfROuter.count()\n",
        "print(\"Number of rows = {0}\".format(nRows))\n",
        "dfROuter.show(nRows)"
      ]
    },
    {
      "cell_type": "code",
      "execution_count": null,
      "metadata": {
        "id": "MsnCeQGggwAB"
      },
      "outputs": [],
      "source": [
        "# Left Semi join\n",
        "# The result includes all values from the first DataFrame that also exist in the second one.\n",
        "joinType = \"left_semi\"\n",
        "dfLSemi = dfReplies.join(dfQuestions, joinExpression, joinType)\n",
        "nRows = dfLSemi.count()\n",
        "print(\"Number of rows = {0}\".format(nRows))\n",
        "dfLSemi.show(nRows)"
      ]
    },
    {
      "cell_type": "code",
      "execution_count": null,
      "metadata": {
        "id": "Z9yzBSTBgyRE"
      },
      "outputs": [],
      "source": [
        "# Left Anti join\n",
        "# The result includes all values from the first DataFrame that DO NOT exist in the second one.\n",
        "joinType = \"left_anti\"\n",
        "dfLAnti = dfReplies.join(dfQuestions, joinExpression, joinType)\n",
        "nRows = dfLAnti.count()\n",
        "print(\"Number of rows = {0}\".format(nRows))\n",
        "dfLAnti.show(nRows)"
      ]
    },
    {
      "cell_type": "code",
      "execution_count": null,
      "metadata": {
        "id": "MZxEhZ7ig0X1"
      },
      "outputs": [],
      "source": [
        "# Cross join \n",
        "# Cartesian product, joins each row from the first DataFrame with all rows from the second one.\n",
        "# IT IS STRONGLY ADVISED NOT TO USE IT, BECAUSE IT IS EXTREMELY COSTLY\n",
        "dfCross = dfReplies.crossJoin(dfQuestions)\n",
        "nRows = dfCross.count()\n",
        "print(\"Number of rows = {0}\".format(nRows))\n",
        "dfCross.show(100)"
      ]
    },
    {
      "cell_type": "markdown",
      "metadata": {
        "id": "Z_ay9hNAJZzo"
      },
      "source": [
        "## Scalar functions and aggregations\n",
        "\n",
        "Spark has a wide offer of functions to operate with DataFrames:\n",
        "- Mathematical functions: ``abs``, ``log``, ``hypot``, etc.\n",
        "- Operations with strings: ``lenght``, ``concat``, etc.\n",
        "- Operations with dates: ``year``, ``date_add``, etc.\n",
        "- Aggregation operations: ``min``, ``max``, ``count``, ``avg``, ``sum``, ``sumDistinct``, ``stddev``, ``variance``, ``kurtosis``, ``skewness``, ``first``, ``last``, ``window``, etc.\n",
        "\n",
        "A detailed description of those functions can be found on  https://spark.apache.org/docs/latest/api/python/reference/pyspark.sql.html#functions"
      ]
    },
    {
      "cell_type": "code",
      "execution_count": null,
      "metadata": {
        "id": "gjuscCLLNMM5"
      },
      "outputs": [],
      "source": [
        "from pyspark.sql.functions import datediff, col\n",
        "colLastActivity = col(\"lastActivity\")\n",
        "colCreationDate = col(\"Date_of_creation\")\n",
        "\n",
        "# Search for the question with an accepted answer that was active the longest time\n",
        "# (i.e. with the highest difference between the LastActivity -\"lastActivity\"- and Creation_date)\n",
        "\n",
        "mostActive = dfQuestionWithAcceptedReply.withColumn(\"ActiveTime\",datediff(colLastActivity,colCreationDate))\\\n",
        "            .orderBy(\"ActiveTime\", ascending=False)\\\n",
        "            .head()\n",
        "\n",
        "print(\"The question \\n\\n{0}\\n\\nhas been active {1} days\".\\\n",
        "      format(mostActive.body.replace(\"&lt;\", \"<\").replace(\"&gt;\", \">\"), mostActive.ActiveTime))"
      ]
    },
    {
      "cell_type": "code",
      "execution_count": null,
      "metadata": {
        "id": "bLyOnKhmNRBs"
      },
      "outputs": [],
      "source": [
        "from pyspark.sql.functions import window\n",
        "# Obtain the number of posts per week from each user\n",
        "# Group by userId and a date-of-creation window of one week\n",
        "dfQuestionWithAcceptedReply.groupBy(\n",
        "                   colUserId, window(colCreationDate, \"1 week\").alias(\"Week\"))\\\n",
        "                  .count()\\\n",
        "                  .sort(\"count\", ascending=False)\\\n",
        "                  .show(20,False)"
      ]
    },
    {
      "cell_type": "code",
      "execution_count": null,
      "metadata": {
        "id": "Mp82ZMrgNTyI"
      },
      "outputs": [],
      "source": [
        "import pyspark.sql.functions as F\n",
        "\n",
        "# Search the average and maximum of the \"points\" (score) of all rows as well as the total number in the DataFrame\n",
        "dfSE.select(F.avg(colPoints), F.max(colPoints), F.count(colPoints)).show()"
      ]
    },
    {
      "cell_type": "code",
      "execution_count": null,
      "metadata": {
        "id": "Z6utH2VnNWqQ"
      },
      "outputs": [],
      "source": [
        "# Again, but using 'describe'\n",
        "dfSE.select(colPoints).describe().show()"
      ]
    },
    {
      "cell_type": "code",
      "execution_count": null,
      "metadata": {
        "id": "CxVgR2PuNY2p"
      },
      "outputs": [],
      "source": [
        "# Score histogram\n",
        "import matplotlib.pyplot as plt; plt.rcdefaults()\n",
        "import matplotlib.pyplot as plt\n",
        "#from io import StringIO\n",
        "import io\n",
        "\n",
        "def show(p):\n",
        "    img = io.StringIO()\n",
        "    p.savefig(img, format='svg')\n",
        "    img.seek(0)\n",
        "#    print (\"%html <div style='width:600px'>\" + img.buf() + \"</div>\")\n",
        "\n",
        "# Obtain a histogram with 10 groups\n",
        "x,y = dfSE.select(colPoints).rdd.flatMap(lambda x:x).histogram(20)\n",
        "\n",
        "# Clean the graph\n",
        "plt.gcf().clear()\n",
        "\n",
        "plt.bar(x[:-1], y, width=1.3)\n",
        "plt.xlabel(u'Score')\n",
        "plt.ylabel(u'Number of occurrences')\n",
        "plt.title(u'Histogram')\n",
        "\n",
        "show(plt)"
      ]
    },
    {
      "cell_type": "markdown",
      "metadata": {
        "id": "ErAk3pekNcBU"
      },
      "source": [
        "\n",
        "## Complex types\n",
        "\n",
        "Spark works with three types of complex data: `structs`, `arrays` and `maps`"
      ]
    },
    {
      "cell_type": "markdown",
      "metadata": {
        "id": "Tz4pgmWvNe03"
      },
      "source": [
        "### Structs\n",
        "\n",
        "DataFrames inside DataFrames"
      ]
    },
    {
      "cell_type": "code",
      "execution_count": null,
      "metadata": {
        "id": "YT5udaEnNiCq"
      },
      "outputs": [],
      "source": [
        "from pyspark.sql.functions import struct\n",
        "# Create a new DF with a column that combines two existing columns\n",
        "colNumViews = col(\"numViewed\")\n",
        "colNReplies = col(\"nAnswers\")\n",
        "dfStruct = dfSE.select(colId, colNumViews, colNReplies, struct(colNumViews, colNReplies)\\\n",
        "               .alias(\"Viewed_Replied\"))\n",
        "dfStruct.show(5)"
      ]
    },
    {
      "cell_type": "code",
      "execution_count": null,
      "metadata": {
        "id": "nUOdIc7MNnBc"
      },
      "outputs": [],
      "source": [
        "# Obtain a field of the combined column\n",
        "dfStruct.select(col(\"Viewed_Replied\").getField(\"numViewed\")).show(5)"
      ]
    },
    {
      "cell_type": "markdown",
      "metadata": {
        "id": "cTmdbtBFNpN_"
      },
      "source": [
        "\n",
        "### Arrays\n",
        "\n",
        "Arrays let us work with data as if they were a Python array."
      ]
    },
    {
      "cell_type": "markdown",
      "metadata": {
        "id": "qlSjiUj1Nun6"
      },
      "source": [
        "*Example*\n",
        "\n",
        "Obtain the number of *tags* for each question with an accepted reply and replace the ``&lt;`` and ``&gt;`` by  ''<'' and ''>''\n",
        "\n",
        "  - \"tags\" from each question are saved in a concatenated way, separated by   ''<'' and ''>'', codified as ``&lt;`` and ``&gt;``\n",
        "\n",
        "`&lt;english-comparison&gt;&lt;translation&gt;&lt;phrase-request&gt;`"
      ]
    },
    {
      "cell_type": "code",
      "execution_count": null,
      "metadata": {
        "id": "yG2BVeJLNwKI"
      },
      "outputs": [],
      "source": [
        "# First, obtain a DataFrame without null tags\n",
        "dfSE.show(10)\n",
        "dfNotNullTags = dfSE.dropna(\"any\", subset=[\"tags\"])\n",
        "dfNotNullTags.show(10)"
      ]
    },
    {
      "cell_type": "code",
      "execution_count": null,
      "metadata": {
        "id": "ssk_TYD1Nzhn"
      },
      "outputs": [],
      "source": [
        "# Add a column with all tags splitted\n",
        "from pyspark.sql.functions import split\n",
        "colTags = col(\"tags\")\n",
        "dfTags = dfNotNullTags.withColumn(\"tag_array\", split(colTags, \"&gt;&lt;\"))\n",
        "dfTags.select(colTags, col(\"tag_array\")).show(10, False)"
      ]
    },
    {
      "cell_type": "code",
      "execution_count": null,
      "metadata": {
        "id": "78q1cSyKN1o4"
      },
      "outputs": [],
      "source": [
        "from pyspark.sql.functions import size\n",
        "# Show the number of tags of each entry\n",
        "colTag_array = col(\"tag_array\")\n",
        "dfTags.select(colTag_array, size(colTag_array)).show(5, False)"
      ]
    },
    {
      "cell_type": "code",
      "execution_count": null,
      "metadata": {
        "id": "oYVIOWIkN4KS"
      },
      "outputs": [],
      "source": [
        "# Show the second tag of each entry\n",
        "dfTags.selectExpr(\"tag_array\", \"tag_array[1]\").show(5, False)"
      ]
    },
    {
      "cell_type": "code",
      "execution_count": null,
      "metadata": {
        "id": "r2Anu7EMN6ce"
      },
      "outputs": [],
      "source": [
        "from pyspark.sql.functions import array_contains\n",
        "# Look up whether the word \"usage\" appears in the tags\n",
        "dfTags.withColumn(\"With_usage\", array_contains(colTag_array, \"&lt;usage\"))\\\n",
        "      .select(colTag_array, col(\"With_usage\")).show(5, False)"
      ]
    },
    {
      "cell_type": "code",
      "execution_count": null,
      "metadata": {
        "id": "ijiJfn6kN8FR"
      },
      "outputs": [],
      "source": [
        "from pyspark.sql.functions import explode\n",
        "# Convert each tag in a row\n",
        "dfTagsRows = dfTags.withColumn(\"Tags2\", explode(colTag_array))\n",
        "dfTagsRows.select(colTags, col(\"Tags2\")).show(10, False)"
      ]
    },
    {
      "cell_type": "code",
      "execution_count": null,
      "metadata": {
        "id": "VNayzA52N9kf"
      },
      "outputs": [],
      "source": [
        "# Remove symbols &lt; y &gt;\n",
        "from pyspark.sql.functions import regexp_replace\n",
        "dfTags = dfTagsRows.withColumn(\"Tags_splitted\", regexp_replace(\"Tags2\", \"&[l,g]t;\", \"\"))\\\n",
        "                   .drop(\"Tags2\")\n",
        "dfTags.select(colTags, col(\"Tags_splitted\")).show(10, False)"
      ]
    },
    {
      "cell_type": "code",
      "execution_count": null,
      "metadata": {
        "id": "V8ryfwuPN_vX"
      },
      "outputs": [],
      "source": [
        "# Number of entries with the \"word-choice\" tag\n",
        "print(\"Number of entries with the word-choice tag = {0}\"\n",
        "      .format(dfTags\n",
        "      .filter(col(\"Tags_splitted\") == \"word-choice\")\n",
        "      .count()))"
      ]
    },
    {
      "cell_type": "markdown",
      "metadata": {
        "id": "0__r_uLjOB5P"
      },
      "source": [
        "### Maps\n",
        "\n",
        "They are created from columns that work as key-value pairs."
      ]
    },
    {
      "cell_type": "code",
      "execution_count": null,
      "metadata": {
        "id": "BmWw5prXOD2G"
      },
      "outputs": [],
      "source": [
        "from pyspark.sql.functions import create_map\n",
        "# Create a column with a key-value map\n",
        "# key: id, value: body\n",
        "dfMap = dfSE.select(create_map(col(\"Creation_date\"), col(\"lastActivity\"))\\\n",
        "            .alias(\"Dates\"))\n",
        "dfMap.show(5, False)"
      ]
    },
    {
      "cell_type": "code",
      "execution_count": null,
      "metadata": {
        "id": "_iI6JeDpOGGs"
      },
      "outputs": [],
      "source": [
        "# We can conduct a search using the key\n",
        "dfMap.selectExpr(\"Dates['2013-11-10 19:58:02.1']\").show(5, False)"
      ]
    },
    {
      "cell_type": "markdown",
      "metadata": {
        "id": "DqiaEK7DOIh4"
      },
      "source": [
        "## Window functions\n",
        "\n",
        "Similar to aggregation functions, they operate in groups of rows, returning a single value for each row. This allows, among others:\n",
        "\n",
        "  - To obtain moving averages\n",
        "  - To calculate cumulative sums \n",
        "  - To access values higher than the current row value\n",
        "\n",
        "Basically, a window function calculates a value for each input row from a table based on a group of rows, called *frame*.\n",
        "\n",
        "As window functions we can use the aggregation functions previously seen as well as other additional functions (``cume_dist``, ``dense_rank``, ``lag``, ``lead``, ``ntile``, ``percent_rank``, ``rank``, ``row_number``) specified as *Window function* in https://spark.apache.org/docs/latest/api/python/reference/pyspark.sql.html#window"
      ]
    },
    {
      "cell_type": "markdown",
      "metadata": {
        "id": "FsNLqnIkOL3R"
      },
      "source": [
        "#### Example 1\n",
        "From the ``dfQuestionWithAcceptedReply`` DataFrame, show the score (column \"points\") maximum per user and for each question, the difference between the question score and the user's maximum score.\n"
      ]
    },
    {
      "cell_type": "code",
      "execution_count": null,
      "metadata": {
        "id": "r8JpMFbQOOSb"
      },
      "outputs": [],
      "source": [
        "from pyspark.sql.window import Window\n",
        "\n",
        "# Specify the windows to partition the rows by the userId column\n",
        "window = Window.partitionBy(colUserId)\n",
        "print(type(window))\n"
      ]
    },
    {
      "cell_type": "code",
      "execution_count": null,
      "metadata": {
        "id": "nPT2WYuYOQd0"
      },
      "outputs": [],
      "source": [
        "# Create a column with the maximum score per user\n",
        "colMaxPoints = F.max(colPoints).over(window)\n",
        "print(type(colMaxPoints))"
      ]
    },
    {
      "cell_type": "code",
      "execution_count": null,
      "metadata": {
        "id": "471ky0FnOUnj"
      },
      "outputs": [],
      "source": [
        "# Obtain a new DataFrame including the maximum score per user and the difference \n",
        "# between this maximum and each question score\n",
        "dfQuestionWithAcceptedReply.select(colUserId, colId.alias(\"Question\"), \n",
        "                          colPoints, colMaxPoints.alias(\"maxPerUser\"))\\\n",
        "                  .withColumn(\"Difference\", colMaxPoints-colPoints)\\\n",
        "                  .orderBy(colUserId, colId)\\\n",
        "                  .show(30)"
      ]
    },
    {
      "cell_type": "markdown",
      "metadata": {
        "id": "qzj45bl2OXlS"
      },
      "source": [
        "#### Example 2\n",
        "Show for each user and question from the ``dfQuestionWithAcceptedReply`` DataFrame  the number of days spent between the previous user question until the current one, and from the current one to the following one."
      ]
    },
    {
      "cell_type": "code",
      "execution_count": null,
      "metadata": {
        "id": "UisxHyv4OZib"
      },
      "outputs": [],
      "source": [
        "# Specify the window to partition the rows by the userId column and sort them by creation day\n",
        "window = Window.partitionBy(colUserId).orderBy(colCreationDate)"
      ]
    },
    {
      "cell_type": "code",
      "execution_count": null,
      "metadata": {
        "id": "3VwWdogcOghH"
      },
      "outputs": [],
      "source": [
        "# Create a column to reference the previous question (in date)\n",
        "PreviousCol = F.lag(colCreationDate, 1).over(window)\n",
        "# Create a column to reference the following question (in date)\n",
        "FollowingCol = F.lead(colCreationDate, 1).over(window)\n",
        "\n",
        "# Show for each user and question the id of the previous and following questions\n",
        "dfQuestionWithAcceptedReply.select(colUserId, colId, colCreationDate.alias(\"Creation Date\"), \n",
        "                          F.datediff(colCreationDate,PreviousCol).alias(\"Days from\"), \n",
        "                          F.datediff(FollowingCol,colCreationDate).alias(\"Days until\"))\\\n",
        "                  .orderBy(colUserId, colId)\\\n",
        "                  .show(30, truncate=False)"
      ]
    },
    {
      "cell_type": "markdown",
      "metadata": {
        "id": "Bn8Wpc4GO4XE"
      },
      "source": [
        "## User-Defined Functions (UDFs)\n",
        "\n",
        "If we need a function that is not implemented, we can create our own function to operate on columns.\n",
        "\n",
        "**Note:**\n",
        "  - UDFs in Python may be quite inefficient, due to the data serialisation in Python\n",
        "  - It is recommended to code them in Scala or Java (and then call them from Python)\n"
      ]
    },
    {
      "cell_type": "markdown",
      "metadata": {
        "id": "VUDo_inWO7s_"
      },
      "source": [
        "#### Example\n",
        "\n",
        "User UDFs to obtain the number of *tags* for each question and change the ``&lt;`` and ``&gt;`` by  ''<'' and ''>''\n",
        "\n",
        "  - The \"tags\" from each question are stored concatenated, separated by  ''<'' and ''>'', and coded as ``&lt;`` and ``&gt;``\n",
        "\n",
        "`&lt;english-comparison&gt;&lt;translation&gt;&lt;phrase-request&gt;`\n",
        "\n",
        "To count the number of tags, it is enough to count the number of times ``&lt;`` appears in the string."
      ]
    },
    {
      "cell_type": "code",
      "execution_count": null,
      "metadata": {
        "id": "X3UMYrG9OjEg"
      },
      "outputs": [],
      "source": [
        "colTags = col(\"tags\")\n",
        "# Obtain a DataFrame without null tags\n",
        "dfNoNullTags = dfSE.na.drop(\"any\", subset=[\"tags\"])"
      ]
    },
    {
      "cell_type": "code",
      "execution_count": null,
      "metadata": {
        "id": "xII8Fn74PETO"
      },
      "outputs": [],
      "source": [
        "from pyspark.sql.functions import udf\n",
        "\n",
        "# Define a function that returns the number of &lt; in a string\n",
        "def countTags(tags):\n",
        "    return tags.count('&lt;')\n",
        "\n",
        "# Define a function that replaces &lt and &gt by < and >\n",
        "def replaceTags(tags):\n",
        "    return tags.replace('&lt;', '<').replace('&gt;', '>')\n",
        "\n",
        "# Create udfs from these functions\n",
        "udfCountTags = udf(countTags)\n",
        "udfReplaceTags = udf(replaceTags)"
      ]
    },
    {
      "cell_type": "code",
      "execution_count": null,
      "metadata": {
        "id": "mP2puRELPPyz"
      },
      "outputs": [],
      "source": [
        "dfNoNullTags.select(udfReplaceTags(colTags).alias(\"Tags\"),\\\n",
        "                          udfCountTags(colTags).alias(\"nTags\"))\\\n",
        "                  .show(truncate=False)\n"
      ]
    },
    {
      "cell_type": "markdown",
      "metadata": {
        "id": "MsxGCSDBI5BZ"
      },
      "source": [
        "**NOTE:** Only Python and Swift are officially supported languages on Colaboratory. If we want to create the UDFs in Scala using Colaboratory, please follow [this instructions](https://medium.com/@shadaj/machine-learning-with-scala-in-google-colaboratory-e6f1661f1c88) to install and configure a Scala kernel. Otherwise, the following two code blocks will not work."
      ]
    },
    {
      "cell_type": "code",
      "execution_count": null,
      "metadata": {
        "id": "l36KWJFKPTBB"
      },
      "outputs": [],
      "source": [
        "# Create the previous functions in Scala\n",
        "def countTagsSc(tags:String):Int = tags.split(\"&lt;\").size - 1\n",
        "def replaceTagsSc(tags:String):String = tags.replace(\"&lt;\", \"<\").replace(\"&gt;\", \">\")\n",
        "\n",
        "# Register those functions as a Spark SQL function\n",
        "spark.udf.register(\"udfCountTagsSc\", countTagsSc(_:String):Int)\n",
        "spark.udf.register(\"udfReplaceTagsSc\", replaceTagsSc(_:String):String)"
      ]
    },
    {
      "cell_type": "code",
      "execution_count": null,
      "metadata": {
        "id": "Fs1igO7hSGBp"
      },
      "outputs": [],
      "source": [
        "dfNoNullTags.printSchema()\n",
        "# Call IDFs Scala using an expression\n",
        "dfNoNullTags.selectExpr(\"udfReplaceTagsSc(tags) AS Tags\",\n",
        "                              \"udfCountTagsSc(tags) AS nTags\")\\\n",
        "                  .show(truncate=False)"
      ]
    },
    {
      "cell_type": "markdown",
      "metadata": {
        "id": "cWQYv4ACSJ26"
      },
      "source": [
        "## Using SQL commands\n",
        "\n",
        "SQL commands executed from Spark are converted to operations on DataFrames\n",
        "\n",
        " - It is possible to run remote commands using the JDBC/ODBC server [Thrift](https://spark.apache.org/docs/latest/sql-programming-guide.html#distributed-sql-engine)\n",
        " - It can also work with stored data in [Apache Hive](https://spark.apache.org/docs/latest/sql-programming-guide.html#hive-tables)\n",
        "\n",
        "To use SQL commands on a DataFrame , the DataFrame must be registered as a *table* or *view*.\n",
        "\n",
        " - The view can be created as a temporary one (it is deleted when the session ends) or as a global one (kept between sessions).\n"
      ]
    },
    {
      "cell_type": "code",
      "execution_count": null,
      "metadata": {
        "id": "34_7b-2GSNUy"
      },
      "outputs": [],
      "source": [
        "# Registers the dfQuestionWithAcceptedReply DataFrame as a temporary view\n",
        "dfQuestionWithAcceptedReply.createOrReplaceTempView(\"table_QuestionWithAcceptedReply\")\n",
        "\n",
        "# Create a table with the data stored in Parquet\n",
        "spark.sql(\"CREATE TABLE table_SE USING PARQUET OPTIONS (path '\"+os.environ[\"DRIVE_DATA\"] + \"dfSE.parquet\" + \"')\")\n"
      ]
    },
    {
      "cell_type": "code",
      "execution_count": null,
      "metadata": {
        "id": "XuVJ6wzgSPzd"
      },
      "outputs": [],
      "source": [
        "spark.sql(\"SELECT * FROM table_SE\").printSchema()"
      ]
    },
    {
      "cell_type": "code",
      "execution_count": null,
      "metadata": {
        "id": "9xJd_XlmSRqH"
      },
      "outputs": [],
      "source": [
        "# Run a SQL command on the table contents\n",
        "dfUser100 = spark.sql(\"\"\"SELECT userId,id FROM table_SE\n",
        "                         WHERE userId >= 100\"\"\")\n",
        "dfUser100.show(5)"
      ]
    },
    {
      "cell_type": "code",
      "execution_count": null,
      "metadata": {
        "id": "9AyFArOXST49"
      },
      "outputs": [],
      "source": [
        "# Show the created tables\n",
        "spark.sql(\"SHOW TABLES\").show()"
      ]
    },
    {
      "cell_type": "code",
      "execution_count": null,
      "metadata": {
        "id": "_SvrtcygSVjj"
      },
      "outputs": [],
      "source": [
        "# Create a new DataFrame from one of the tables\n",
        "dfFromTable = spark.sql(\"SELECT * FROM table_QuestionWithAcceptedReply\")\n",
        "dfFromTable.show(5)"
      ]
    },
    {
      "cell_type": "code",
      "execution_count": null,
      "metadata": {
        "id": "FusaDLDZSXeB"
      },
      "outputs": [],
      "source": [
        "spark.sql(\"DROP TABLE IF EXISTS table_QuestionWithAcceptedReply\")\n",
        "spark.sql(\"DROP TABLE IF EXISTS table_SE\")\n",
        "\n",
        "spark.sql(\"SHOW TABLES\").show()"
      ]
    },
    {
      "cell_type": "markdown",
      "metadata": {
        "id": "hkJSOev3XOPn"
      },
      "source": [
        "\n",
        "\n",
        "---\n",
        "\n",
        "# Exercises\n"
      ]
    },
    {
      "cell_type": "markdown",
      "metadata": {
        "id": "7ppnan-_ELFI"
      },
      "source": [
        "## Exercise 4.1: Pi Estimation\n",
        "\n",
        "Using the Monte Carlo method, estimate the value of Pi. Use the random() method from the random class."
      ]
    },
    {
      "cell_type": "code",
      "execution_count": null,
      "metadata": {
        "id": "mSkWxWdJ5Vk8",
        "colab": {
          "base_uri": "https://localhost:8080/"
        },
        "outputId": "2df854cf-b07d-4ba5-8956-a0d4c5d0fe56"
      },
      "outputs": [
        {
          "output_type": "execute_result",
          "data": {
            "text/plain": [
              "3.1416792"
            ]
          },
          "metadata": {},
          "execution_count": 27
        }
      ],
      "source": [
        "import random\n",
        "import numpy as np\n",
        "from operator import add\n",
        "def generate_prob(p):\n",
        "  x, y = random.random(), random.random()\n",
        "  return int(x**2+y**2<1)\n",
        "n = 10_000_000\n",
        "\n",
        "count = sc.parallelize(range(0, n)).map(generate_prob).reduce(add)\n",
        "\n",
        "count*4/n"
      ]
    },
    {
      "cell_type": "markdown",
      "metadata": {
        "id": "2vPYCnS8ERmg"
      },
      "source": [
        "## Exercise 4.2: Inspect a log file\n",
        "\n",
        "Upload the file /var/log/syslog from your computer to this notebook. Then, select only the \"bad lines\": WARNING and ERROR messages."
      ]
    },
    {
      "cell_type": "markdown",
      "source": [],
      "metadata": {
        "id": "jb8VQs4nGsxB"
      }
    },
    {
      "cell_type": "code",
      "execution_count": null,
      "metadata": {
        "id": "VR-Men-G5ZdZ",
        "colab": {
          "base_uri": "https://localhost:8080/"
        },
        "outputId": "6444a55a-7869-4bf3-cbc9-d85dba10bb0a"
      },
      "outputs": [
        {
          "output_type": "stream",
          "name": "stdout",
          "text": [
            "+--------------------+\n",
            "|               lines|\n",
            "+--------------------+\n",
            "|Jan 23 00:07:43 s...|\n",
            "|Jan 23 00:16:44 s...|\n",
            "|Jan 23 00:27:54 s...|\n",
            "|Jan 23 00:38:54 s...|\n",
            "|Jan 23 00:49:54 s...|\n",
            "|Jan 23 00:49:59 s...|\n",
            "|Jan 23 01:00:59 s...|\n",
            "|Jan 23 01:01:04 s...|\n",
            "|Jan 23 01:12:04 s...|\n",
            "|Jan 23 01:23:04 s...|\n",
            "+--------------------+\n",
            "\n"
          ]
        }
      ],
      "source": [
        "df = spark.read.csv(os.environ[\"DRIVE_DATA\"]+\"syslog\").withColumnRenamed(\"_c0\", \"lines\")\n",
        "df.filter((df.lines.contains(\"WARNING\") | (df.lines.contains(\"ERROR\")))).show(10)"
      ]
    },
    {
      "cell_type": "code",
      "source": [],
      "metadata": {
        "id": "isouxdWUHp6B"
      },
      "execution_count": null,
      "outputs": []
    }
  ],
  "metadata": {
    "colab": {
      "provenance": [],
      "toc_visible": true,
      "include_colab_link": true
    },
    "kernelspec": {
      "display_name": "Python 3",
      "name": "python3"
    }
  },
  "nbformat": 4,
  "nbformat_minor": 0
}