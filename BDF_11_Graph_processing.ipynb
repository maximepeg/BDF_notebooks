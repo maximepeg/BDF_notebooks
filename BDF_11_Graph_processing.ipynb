{
  "nbformat": 4,
  "nbformat_minor": 0,
  "metadata": {
    "colab": {
      "provenance": [],
      "include_colab_link": true
    },
    "kernelspec": {
      "name": "python3",
      "display_name": "Python 3"
    }
  },
  "cells": [
    {
      "cell_type": "markdown",
      "metadata": {
        "id": "view-in-github",
        "colab_type": "text"
      },
      "source": [
        "<a href=\"https://colab.research.google.com/github/maximepeg/BDF_notebooks/blob/main/BDF_11_Graph_processing.ipynb\" target=\"_parent\"><img src=\"https://colab.research.google.com/assets/colab-badge.svg\" alt=\"Open In Colab\"/></a>"
      ]
    },
    {
      "cell_type": "markdown",
      "metadata": {
        "id": "uL0HHBxQa1Hc"
      },
      "source": [
        "#00 - Configuration of Apache Spark on Collaboratory\n"
      ]
    },
    {
      "cell_type": "markdown",
      "metadata": {
        "id": "AcWXhOxia5yZ"
      },
      "source": [
        "###Installing Java, Spark, and Findspark\n",
        "\n",
        "\n",
        "---\n",
        "\n",
        "\n",
        "This code installs Apache Spark 3.0.1, Java 8, and [Findspark](https://github.com/minrk/findspark), a library that makes it easy for Python to find Spark."
      ]
    },
    {
      "cell_type": "code",
      "metadata": {
        "id": "KsAfQ0CrgnWf",
        "colab": {
          "base_uri": "https://localhost:8080/"
        },
        "outputId": "febd3344-b1f1-4700-af9b-8af8403c3803"
      },
      "source": [
        "!apt-get update\n",
        "!apt-get install openjdk-8-jdk-headless -qq > /dev/null\n",
        "!wget  http://apache.osuosl.org/spark/spark-3.2.2/spark-3.2.2-bin-hadoop2.7.tgz   \n",
        "!tar xf spark-3.2.2-bin-hadoop2.7.tgz  \n",
        "!rm spark-3.2.2-bin-hadoop2.7.tgz    \n",
        "!pip install -q findspark"
      ],
      "execution_count": null,
      "outputs": [
        {
          "output_type": "stream",
          "name": "stdout",
          "text": [
            "\r0% [Working]\r            \rHit:1 http://archive.ubuntu.com/ubuntu bionic InRelease\n",
            "\r0% [Waiting for headers] [Connecting to security.ubuntu.com] [Connected to clou\r                                                                               \rGet:2 http://archive.ubuntu.com/ubuntu bionic-updates InRelease [88.7 kB]\n",
            "\r0% [2 InRelease 14.2 kB/88.7 kB 16%] [Connecting to security.ubuntu.com (91.189\r0% [1 InRelease gpgv 242 kB] [2 InRelease 14.2 kB/88.7 kB 16%] [Waiting for hea\r                                                                               \rGet:3 http://security.ubuntu.com/ubuntu bionic-security InRelease [88.7 kB]\n",
            "\r0% [1 InRelease gpgv 242 kB] [2 InRelease 21.4 kB/88.7 kB 24%] [3 InRelease 14.\r                                                                               \rGet:4 https://cloud.r-project.org/bin/linux/ubuntu bionic-cran40/ InRelease [3,626 B]\n",
            "\r0% [1 InRelease gpgv 242 kB] [2 InRelease 41.7 kB/88.7 kB 47%] [3 InRelease 14.\r0% [1 InRelease gpgv 242 kB] [2 InRelease 41.7 kB/88.7 kB 47%] [3 InRelease 14.\r                                                                               \rHit:5 http://ppa.launchpad.net/c2d4u.team/c2d4u4.0+/ubuntu bionic InRelease\n",
            "\r0% [1 InRelease gpgv 242 kB] [2 InRelease 64.9 kB/88.7 kB 73%] [3 InRelease 20.\r0% [1 InRelease gpgv 242 kB] [3 InRelease 34.4 kB/88.7 kB 39%] [Waiting for hea\r                                                                               \rIgn:6 https://developer.download.nvidia.com/compute/machine-learning/repos/ubuntu1804/x86_64  InRelease\n",
            "Get:7 https://developer.download.nvidia.com/compute/cuda/repos/ubuntu1804/x86_64  InRelease [1,581 B]\n",
            "Hit:8 https://developer.download.nvidia.com/compute/machine-learning/repos/ubuntu1804/x86_64  Release\n",
            "Get:9 http://archive.ubuntu.com/ubuntu bionic-backports InRelease [83.3 kB]\n",
            "Hit:10 http://ppa.launchpad.net/cran/libgit2/ubuntu bionic InRelease\n",
            "Hit:11 http://ppa.launchpad.net/deadsnakes/ppa/ubuntu bionic InRelease\n",
            "Hit:12 http://ppa.launchpad.net/graphics-drivers/ppa/ubuntu bionic InRelease\n",
            "Get:13 http://archive.ubuntu.com/ubuntu bionic-updates/universe amd64 Packages [2,338 kB]\n",
            "Get:14 https://developer.download.nvidia.com/compute/cuda/repos/ubuntu1804/x86_64  Packages [1,038 kB]\n",
            "Get:15 http://archive.ubuntu.com/ubuntu bionic-updates/main amd64 Packages [3,493 kB]\n",
            "Get:17 http://security.ubuntu.com/ubuntu bionic-security/universe amd64 Packages [1,561 kB]\n",
            "Get:18 http://security.ubuntu.com/ubuntu bionic-security/main amd64 Packages [3,067 kB]\n",
            "Fetched 11.8 MB in 5s (2,607 kB/s)\n",
            "Reading package lists... Done\n",
            "--2022-11-23 08:38:31--  http://apache.osuosl.org/spark/spark-3.2.2/spark-3.2.2-bin-hadoop2.7.tgz\n",
            "Resolving apache.osuosl.org (apache.osuosl.org)... 140.211.166.134, 64.50.233.100, 64.50.236.52, ...\n",
            "Connecting to apache.osuosl.org (apache.osuosl.org)|140.211.166.134|:80... connected.\n",
            "HTTP request sent, awaiting response... 200 OK\n",
            "Length: 272846416 (260M) [application/x-gzip]\n",
            "Saving to: ‘spark-3.2.2-bin-hadoop2.7.tgz’\n",
            "\n",
            "spark-3.2.2-bin-had 100%[===================>] 260.21M  1.51MB/s    in 3m 2s   \n",
            "\n",
            "2022-11-23 08:41:33 (1.43 MB/s) - ‘spark-3.2.2-bin-hadoop2.7.tgz’ saved [272846416/272846416]\n",
            "\n"
          ]
        }
      ]
    },
    {
      "cell_type": "code",
      "metadata": {
        "id": "2W8ScIqhafBT",
        "colab": {
          "base_uri": "https://localhost:8080/"
        },
        "outputId": "7d22f9e8-00e8-4beb-caad-b61eec7c2be1"
      },
      "source": [
        "#!wget https://repos.spark-packages.org/graphframes/graphframes/0.8.1-spark3.0-s_2.12/graphframes-0.8.1-spark3.0-s_2.12.jar\n",
        "!wget https://repos.spark-packages.org/graphframes/graphframes/0.8.2-spark3.2-s_2.12/graphframes-0.8.2-spark3.2-s_2.12.jar"
      ],
      "execution_count": null,
      "outputs": [
        {
          "output_type": "stream",
          "name": "stdout",
          "text": [
            "--2022-11-23 08:41:41--  https://repos.spark-packages.org/graphframes/graphframes/0.8.2-spark3.2-s_2.12/graphframes-0.8.2-spark3.2-s_2.12.jar\n",
            "Resolving repos.spark-packages.org (repos.spark-packages.org)... 108.157.162.51, 108.157.162.52, 108.157.162.5, ...\n",
            "Connecting to repos.spark-packages.org (repos.spark-packages.org)|108.157.162.51|:443... connected.\n",
            "HTTP request sent, awaiting response... 200 OK\n",
            "Length: 247880 (242K) [binary/octet-stream]\n",
            "Saving to: ‘graphframes-0.8.2-spark3.2-s_2.12.jar’\n",
            "\n",
            "graphframes-0.8.2-s 100%[===================>] 242.07K  --.-KB/s    in 0.06s   \n",
            "\n",
            "2022-11-23 08:41:41 (3.99 MB/s) - ‘graphframes-0.8.2-spark3.2-s_2.12.jar’ saved [247880/247880]\n",
            "\n"
          ]
        }
      ]
    },
    {
      "cell_type": "markdown",
      "metadata": {
        "id": "urlhmQ_ra_ba"
      },
      "source": [
        "### Set Environment Variables\n",
        "Set the locations where Spark and Java are installed."
      ]
    },
    {
      "cell_type": "code",
      "metadata": {
        "id": "hiOoj3rUgnVx",
        "colab": {
          "base_uri": "https://localhost:8080/"
        },
        "outputId": "48003593-4075-4486-c4ce-7f2d24ee35ea"
      },
      "source": [
        "import os\n",
        "os.environ[\"JAVA_HOME\"] = \"/usr/lib/jvm/java-8-openjdk-amd64\"\n",
        "os.environ[\"SPARK_HOME\"] = \"/content/spark/\"\n",
        "os.environ[\"DRIVE_DATA\"] = \"/content/gdrive/My Drive/Enseignement/2022-2023/ING3/HPDA/BigDataFrameworks/data/\"\n",
        "\n",
        "!rm /content/spark\n",
        "!ln -s /content/spark-3.2.2-bin-hadoop2.7 /content/spark\n",
        "\n",
        "#!mv graphframes-0.8.1-spark3.0-s_2.12.jar /content/spark/jars/\n",
        "!mv graphframes-0.8.2-spark3.2-s_2.12.jar /content/spark/jars/\n",
        "\n",
        "!export SPARK_HOME=/content/spark\n",
        "!export PATH=$PATH:$SPARK_HOME/bin:$SPARK_HOME/sbin\n",
        "\n",
        "!echo $SPARK_HOME\n",
        "!env |grep  \"DRIVE_DATA\"\n",
        "\n",
        "!ls -l /content/"
      ],
      "execution_count": null,
      "outputs": [
        {
          "output_type": "stream",
          "name": "stdout",
          "text": [
            "rm: cannot remove '/content/spark': No such file or directory\n",
            "/content/spark/\n",
            "DRIVE_DATA=/content/gdrive/My Drive/Enseignement/2022-2023/ING3/HPDA/BigDataFrameworks/data/\n",
            "total 8\n",
            "drwxr-xr-x  1 root root 4096 Nov 22 00:14 sample_data\n",
            "lrwxrwxrwx  1 root root   34 Nov 23 08:45 spark -> /content/spark-3.2.2-bin-hadoop2.7\n",
            "drwxr-xr-x 13 1000 1000 4096 Jul 11 16:16 spark-3.2.2-bin-hadoop2.7\n"
          ]
        }
      ]
    },
    {
      "cell_type": "markdown",
      "metadata": {
        "id": "2URH7tCHbDqf"
      },
      "source": [
        "### Start a SparkSession\n",
        "This will start a local Spark session."
      ]
    },
    {
      "cell_type": "code",
      "metadata": {
        "id": "n8JD51WVauRN",
        "colab": {
          "base_uri": "https://localhost:8080/"
        },
        "outputId": "5bab2ec7-722c-46c8-b62d-f7bf3e6a40b0"
      },
      "source": [
        "!python -V\n",
        "import findspark\n",
        "findspark.init()\n",
        "\n",
        "from pyspark import SparkContext\n",
        "sc = SparkContext.getOrCreate()\n",
        "\n",
        "sc.addPyFile('/content/spark/jars/graphframes-0.8.2-spark3.2-s_2.12.jar')\n",
        "\n",
        "# Example: shows the PySpark version\n",
        "print(\"PySpark version {0}\".format(sc.version))\n",
        "\n",
        "# Example: parallelise an array and show the 2 first elements\n",
        "sc.parallelize([2, 3, 4, 5, 6]).cache().take(2)"
      ],
      "execution_count": null,
      "outputs": [
        {
          "output_type": "stream",
          "name": "stdout",
          "text": [
            "Python 3.7.15\n",
            "PySpark version 3.2.2\n"
          ]
        },
        {
          "output_type": "execute_result",
          "data": {
            "text/plain": [
              "[2, 3]"
            ]
          },
          "metadata": {},
          "execution_count": 4
        }
      ]
    },
    {
      "cell_type": "code",
      "metadata": {
        "id": "Ar81vEOHauP2"
      },
      "source": [
        "from pyspark.sql import SparkSession\n",
        "# We create a SparkSession object (or we retrieve it if it is already created)\n",
        "spark = SparkSession \\\n",
        ".builder \\\n",
        ".appName(\"My application\") \\\n",
        ".config(\"packages\",\"graphframes:graphframes-0.8.1-spark3.0-s_2.12\") \\\n",
        ".master(\"local[4]\") \\\n",
        ".getOrCreate()\n",
        "# We get the SparkContext\n",
        "sc = spark.sparkContext"
      ],
      "execution_count": null,
      "outputs": []
    },
    {
      "cell_type": "code",
      "metadata": {
        "id": "KBMAZitVauMT",
        "colab": {
          "base_uri": "https://localhost:8080/"
        },
        "outputId": "d60d2aa2-05a9-499d-f3ed-752f2d24297e"
      },
      "source": [
        "# Mount Google Drive\n",
        "from google.colab import drive\n",
        "drive.mount('/content/gdrive')"
      ],
      "execution_count": null,
      "outputs": [
        {
          "output_type": "stream",
          "name": "stdout",
          "text": [
            "Mounted at /content/gdrive\n"
          ]
        }
      ]
    },
    {
      "cell_type": "markdown",
      "metadata": {
        "id": "jajoV8LDbTCe"
      },
      "source": [
        "\n",
        "---\n",
        "\n",
        "\n",
        "# 11 - Graph processing"
      ]
    },
    {
      "cell_type": "markdown",
      "metadata": {
        "id": "Tc96GG2FFzA5"
      },
      "source": [
        "## GraphX: Graph processing with RDDs\n",
        "\n",
        "Parallel graph programming using Spark\n",
        "\n",
        "- Main abstraction: [*Graph*](http://spark.apache.org/docs/latest/api/scala/index.html#org.apache.spark.graphx.Graph)\n",
        "    -   Directed multigraph with properties assigned to vertices and edges \n",
        "    -   It is an extension of the RDDs\n",
        "- It includes graph constructors, basic operators ( *reverse*, *subgraph*…) and graph algorithms ( *PageRank*, *Triangle Counting*…)\n",
        "- Only availabe on Scala.\n",
        "\n",
        "Documentation: [spark.apache.org/docs/latest/graphx-programming-guide.html](http://spark.apache.org/docs/latest/graphx-programming-guide.html)\n",
        "\n",
        "API: https://spark.apache.org/docs/latest/api/scala/index.html#org.apache.spark.graphx.package"
      ]
    },
    {
      "cell_type": "markdown",
      "metadata": {
        "id": "szq16u_cIKxA"
      },
      "source": [
        "## Graphs in GraphX\n",
        "<img src=\"http://persoal.citius.usc.es/tf.pena/TCDM/figs/grapxgraph.png\" alt=\"Grafo en GraphX\" style=\"width: 50px;\"/>\n",
        "(Source: M.S. Malak, R. East \"Spark GraphX in action\", Manning, 2016)"
      ]
    },
    {
      "cell_type": "markdown",
      "metadata": {
        "id": "5HkF-qEfIZrO"
      },
      "source": [
        "### Example of a simple graph\n",
        "<img src=\"http://persoal.citius.usc.es/tf.pena/TCDM/figs/simpsonsgraph.png\" alt=\"Grafo de los Simpson\" style=\"width: 600px;\"/>\n",
        "(Source: P. Zecević, M. Bonaći \"Spark in action\", Manning, 2017)"
      ]
    },
    {
      "cell_type": "markdown",
      "metadata": {
        "id": "L6bmE-QvGf2r"
      },
      "source": [
        "## GraphFrames: : Graph processing with DataFrames\n",
        "\n",
        "In Python we can use [*GraphFrames*](https://graphframes.github.io/graphframes/docs/_site/quick-start.html) which wraps GraphX algorithms under the DataFrames API, providing a Python interface.\n",
        "\n",
        "- Support for multiple languages is on the works\n",
        "    - For now,  available for Scala and Python \n",
        "- Not yet integrated on Spark\n",
        "    - Available as an external package (https://spark-packages.org/package/graphframes/graphframes)\n",
        "\n",
        "More information:\n",
        "- Project web: https://graphframes.github.io/graphframes/docs/_site/\n",
        "- Python API : https://graphframes.github.io/graphframes/docs/_site/api/python/index.html\n"
      ]
    },
    {
      "cell_type": "markdown",
      "metadata": {
        "id": "l07_p2RRIu_f"
      },
      "source": [
        "### Graphs using pyspark and GraphFrames"
      ]
    },
    {
      "cell_type": "code",
      "metadata": {
        "id": "1enKNqmMIy1Z",
        "colab": {
          "base_uri": "https://localhost:8080/"
        },
        "outputId": "dff9b46d-0dce-4121-9768-52704ab59080"
      },
      "source": [
        "# The following example shows how to create a GraphFrame, query it, and run the PageRank algorithm.\n",
        "# Source: https://graphframes.github.io/graphframes/docs/_site/quick-start.html\n",
        "\n",
        "from pyspark.sql import SQLContext\n",
        "sqlContext = SQLContext(sc)\n",
        "\n",
        "from graphframes import *\n",
        "\n",
        "# Create a Vertex DataFrame with unique ID column \"id\"\n",
        "v = sqlContext.createDataFrame([\n",
        "  (\"a\", \"Alice\", 34),\n",
        "  (\"b\", \"Bob\", 36),\n",
        "  (\"c\", \"Charlie\", 30),\n",
        "], [\"id\", \"name\", \"age\"])\n",
        "# Create an Edge DataFrame with \"src\" and \"dst\" columns\n",
        "e = sqlContext.createDataFrame([\n",
        "  (\"a\", \"b\", \"friend\"),\n",
        "  (\"b\", \"c\", \"follow\"),\n",
        "  (\"c\", \"b\", \"follow\"),\n",
        "], [\"src\", \"dst\", \"relationship\"])\n",
        "# Create a GraphFrame\n",
        "\n",
        "g = GraphFrame(v, e)\n",
        "\n",
        "# Query: Get in-degree of each vertex.\n",
        "g.inDegrees.show()\n",
        "\n",
        "# Query: Count the number of \"follow\" connections in the graph.\n",
        "g.edges.filter(\"relationship = 'follow'\").count()\n",
        "\n",
        "# Run PageRank algorithm, and show results.\n",
        "results = g.pageRank(resetProbability=0.01, maxIter=20)\n",
        "results.vertices.select(\"id\", \"pagerank\").show()"
      ],
      "execution_count": null,
      "outputs": [
        {
          "output_type": "stream",
          "name": "stderr",
          "text": [
            "/content/spark/python/pyspark/sql/context.py:79: FutureWarning: Deprecated in 3.0.0. Use SparkSession.builder.getOrCreate() instead.\n",
            "  FutureWarning\n"
          ]
        },
        {
          "output_type": "stream",
          "name": "stdout",
          "text": [
            "+---+--------+\n",
            "| id|inDegree|\n",
            "+---+--------+\n",
            "|  b|       2|\n",
            "|  c|       1|\n",
            "+---+--------+\n",
            "\n",
            "+---+------------------+\n",
            "| id|          pagerank|\n",
            "+---+------------------+\n",
            "|  c|1.8994109890559092|\n",
            "|  b|1.0905890109440908|\n",
            "|  a|              0.01|\n",
            "+---+------------------+\n",
            "\n"
          ]
        }
      ]
    },
    {
      "cell_type": "code",
      "source": [
        "e.show()"
      ],
      "metadata": {
        "colab": {
          "base_uri": "https://localhost:8080/"
        },
        "id": "TOxsuQcByz-R",
        "outputId": "fb653119-d928-459c-c604-91dffa5288cc"
      },
      "execution_count": null,
      "outputs": [
        {
          "output_type": "stream",
          "name": "stdout",
          "text": [
            "+---+---+------------+\n",
            "|src|dst|relationship|\n",
            "+---+---+------------+\n",
            "|  a|  b|      friend|\n",
            "|  b|  c|      follow|\n",
            "|  c|  b|      follow|\n",
            "+---+---+------------+\n",
            "\n"
          ]
        }
      ]
    },
    {
      "cell_type": "markdown",
      "metadata": {
        "id": "YIZQECRHuiDw"
      },
      "source": [
        "#Exercises"
      ]
    },
    {
      "cell_type": "markdown",
      "metadata": {
        "id": "usL5LynSI6rE"
      },
      "source": [
        "## Exercise 11.1:\n",
        "\n",
        "A long time ago in a galaxy far, far away, the characters of the Star Wars franchise interacted with each other in an endless series of films. An ancient Jedi order, called the *Data Guardians of the Galaxy* (not affiliated to Marvel's homonym :) registered all those interactions and saved them on a digital file so that they could be studied by the forthcoming generations. This file was originally called (guess it) `sw.txt`, and you will find it in the `/data` directory. \n",
        "\n",
        "Using pySpark, perform the following operations and answer the following questions:\n",
        "\n",
        "1. Load the `$DRIVE_DATA/sw.txt` file. Take into account that it is a JSON file.\n",
        "2. Using this information, create a graph of interactions between the Star Wars characters.\n",
        "3. How many different characters are there?\n",
        "4. How many interactions are there?\n",
        "5. Who is the central character in Star Wars (the one who interacts in most scenes)? \n",
        "6. Who is the character with the highest 'rank' in Star Wars (use the PageRank algorithm)?"
      ]
    },
    {
      "cell_type": "code",
      "source": [
        "import json\n",
        "with open(f'{os.environ[\"DRIVE_DATA\"]}sw.txt') as file:\n",
        "  dic = json.load(file)\n",
        "dic.keys()"
      ],
      "metadata": {
        "colab": {
          "base_uri": "https://localhost:8080/"
        },
        "id": "0ovJ5Gd1tWsw",
        "outputId": "ae831cc4-500a-4f14-c4e4-a0fc11b73e27"
      },
      "execution_count": null,
      "outputs": [
        {
          "output_type": "execute_result",
          "data": {
            "text/plain": [
              "dict_keys(['nodes', 'links'])"
            ]
          },
          "metadata": {},
          "execution_count": 23
        }
      ]
    },
    {
      "cell_type": "code",
      "metadata": {
        "id": "fM--zQhLyAYM"
      },
      "source": [
        "from pyspark.sql.functions import monotonically_increasing_id\n",
        "\n",
        "vertex = spark.createDataFrame(dic[\"nodes\"])\n",
        "edge = spark.createDataFrame(dic[\"links\"])\n",
        "vertex = vertex.withColumn(\"id\", monotonically_increasing_id())\n",
        "edge = edge.withColumnRenamed(\"target\", \"dst\").withColumnRenamed(\"source\", \"src\")"
      ],
      "execution_count": null,
      "outputs": []
    },
    {
      "cell_type": "code",
      "source": [
        "!pip install networkx "
      ],
      "metadata": {
        "colab": {
          "base_uri": "https://localhost:8080/"
        },
        "id": "JAXYD5qvzIYj",
        "outputId": "dbd18ea9-b400-472e-c949-44f6f5fac96d"
      },
      "execution_count": null,
      "outputs": [
        {
          "output_type": "stream",
          "name": "stdout",
          "text": [
            "Looking in indexes: https://pypi.org/simple, https://us-python.pkg.dev/colab-wheels/public/simple/\n",
            "Requirement already satisfied: networkx in /usr/local/lib/python3.7/dist-packages (2.6.3)\n"
          ]
        }
      ]
    },
    {
      "cell_type": "code",
      "source": [
        "import networkx as nx\n",
        "def PlotGraph(edge_list):\n",
        "    Gplot=nx.Graph()\n",
        "    for row in edge_list.select('src','dst').take(1000):\n",
        "        Gplot.add_edge(row['src'],row['dst'])\n",
        "\n",
        "    #plt.subplot(121)\n",
        "    nx.draw(Gplot, with_labels=True, font_weight='bold')\n",
        "\n"
      ],
      "metadata": {
        "id": "-aFxq5Dbryk6"
      },
      "execution_count": null,
      "outputs": []
    },
    {
      "cell_type": "code",
      "source": [
        "graph = GraphFrame(vertex, edge)\n",
        "PlotGraph(graph.edges)"
      ],
      "metadata": {
        "colab": {
          "base_uri": "https://localhost:8080/",
          "height": 319
        },
        "id": "6mUrQmqbuvyC",
        "outputId": "d4ddcd8f-215e-46d3-8c8a-22c859811cf5"
      },
      "execution_count": null,
      "outputs": [
        {
          "output_type": "display_data",
          "data": {
            "text/plain": [
              "<Figure size 432x288 with 1 Axes>"
            ],
            "image/png": "[encoded data removed]"
          },
          "metadata": {}
        }
      ]
    },
    {
      "cell_type": "code",
      "source": [
        "print(f\"There are {graph.vertices.count()} characters in this graph, and {graph.edges.count()} interactions\")"
      ],
      "metadata": {
        "colab": {
          "base_uri": "https://localhost:8080/"
        },
        "id": "CfS9S3mO7ScJ",
        "outputId": "e23ec7f7-0ef3-4407-d858-d794f9781896"
      },
      "execution_count": null,
      "outputs": [
        {
          "output_type": "stream",
          "name": "stdout",
          "text": [
            "There are 111 characters in this graph, and 444 interactions\n"
          ]
        }
      ]
    },
    {
      "cell_type": "code",
      "source": [
        "a = edge.groupBy(\"dst\").count().orderBy(\"count\", ascending=False).withColumnRenamed(\"count\", \"acount\")\n",
        "b = edge.groupBy(\"src\").count().orderBy(\"count\", ascending=False).withColumnRenamed(\"count\", \"bcount\")\n",
        "\n",
        "c = a.join(b, a.dst == b.src, \"inner\")\n",
        "d = c.withColumn(\"sum\", c.acount+c.bcount).orderBy(\"sum\",ascending=False)\n",
        "most_interaction = d.collect()[0][0], d.collect()[0][-1]\n",
        "most_interacted = a.collect()[0][0], a.collect()[0][1]\n",
        "most_interacting = b.collect()[0][0], b.collect()[0][1]\n",
        "\n"
      ],
      "metadata": {
        "id": "ErfifLrd8JRz"
      },
      "execution_count": null,
      "outputs": []
    },
    {
      "cell_type": "code",
      "source": [
        "def to_name(id):\n",
        "  return vertex.filter(vertex.id == id).collect()[0][1]"
      ],
      "metadata": {
        "id": "xiunb1LI9fhh"
      },
      "execution_count": null,
      "outputs": []
    },
    {
      "cell_type": "code",
      "source": [
        "print(f\"The character that is the source of most interaction is {to_name(most_interacting[0])}, with {most_interacting[1]} count of being the source of an interaction\")\n",
        "print(f\"The character that is the target of most interaction is {to_name(most_interacted[0])}, with {most_interacted[1]} count of being the target of an interaction\")\n",
        "print(f\"The character that participates in the most interaction is {to_name(most_interaction[0])}, with {most_interaction[1]} count of participating in an interaction\")\n"
      ],
      "metadata": {
        "colab": {
          "base_uri": "https://localhost:8080/"
        },
        "id": "vgqkwt0jEhZ3",
        "outputId": "9d50d628-9736-41c7-d7bf-fda1dca5c911"
      },
      "execution_count": null,
      "outputs": [
        {
          "output_type": "stream",
          "name": "stdout",
          "text": [
            "The character that is the source of most interaction is DARTH VADER, with 39 count of being the source of an interaction\n",
            "The character that is the target of most interaction is PADME, with 23 count of being the target of an interaction\n",
            "The character that participates in the most interaction is DARTH VADER, with 52 count of participating in an interaction\n"
          ]
        }
      ]
    },
    {
      "cell_type": "code",
      "source": [
        "result_sw = graph.pageRank(resetProbability=0.01, maxIter=20)\n"
      ],
      "metadata": {
        "id": "UuSojCnNE2oa"
      },
      "execution_count": null,
      "outputs": []
    },
    {
      "cell_type": "code",
      "source": [
        "ranks = result_sw.vertices.orderBy(\"pagerank\", ascending=False)\n",
        "high_rank = ranks.collect()[0][1]\n",
        "ranks.show()"
      ],
      "metadata": {
        "colab": {
          "base_uri": "https://localhost:8080/"
        },
        "id": "LuGaqRwqFpY7",
        "outputId": "7ab259c4-4731-4e2c-cdd2-a5259ddad1e1"
      },
      "execution_count": null,
      "outputs": [
        {
          "output_type": "stream",
          "name": "stdout",
          "text": [
            "+-------+---------------+-----+---+------------------+\n",
            "| colour|           name|value| id|          pagerank|\n",
            "+-------+---------------+-----+---+------------------+\n",
            "|#9ACD32|           YODA|   46| 34| 7.816793973543788|\n",
            "|#DDA0DD|          PADME|   75| 18| 5.766163683097597|\n",
            "|#bde0f6|          R2-D2|  171|  1| 4.186811320959878|\n",
            "|#808080|          WATTO|    9| 20|3.5496485400514874|\n",
            "|#808080|           SHMI|   12| 23|3.4896346673737733|\n",
            "|#48D1CC|        OBI-WAN|  148|  8| 3.164444977686932|\n",
            "|#808080|        SUN RIT|    4| 54|2.9670283784833096|\n",
            "|#4f4fb1|        QUI-GON|   62|  4| 2.828540834595268|\n",
            "|#808080|           SOLA|    4| 43| 2.474506591899894|\n",
            "|#808080|          TC-14|    5|  7|1.9934056249208498|\n",
            "|#808080|     SIO BIBBLE|    9| 14| 1.924083748712242|\n",
            "|#000000|    DARTH VADER|  190|  0|1.8638155208749687|\n",
            "|#808080|SENATOR ASK AAK|    4| 41| 1.704242800429791|\n",
            "|#808080|       RIC OLIE|   12| 19|1.6742378318825124|\n",
            "|#808080|        TEY HOW|    5| 11| 1.665410435325444|\n",
            "|#808080|        SEBULBA|    4| 21|1.5912438197226904|\n",
            "|#9a9a00|        JAR JAR|   42| 15|1.5562232617668013|\n",
            "|#808080|    NUTE GUNRAY|   25|  5|1.5378718513390375|\n",
            "|#808080|        TAUN WE|    8| 46|1.2967521218512283|\n",
            "|#808080|          RUWEE|    5| 45|1.2434706491959264|\n",
            "+-------+---------------+-----+---+------------------+\n",
            "only showing top 20 rows\n",
            "\n"
          ]
        }
      ]
    },
    {
      "cell_type": "code",
      "source": [
        "print(f\"The character with the highest pagerank is  {high_rank}\")"
      ],
      "metadata": {
        "colab": {
          "base_uri": "https://localhost:8080/"
        },
        "id": "TkiVtGYSGekU",
        "outputId": "7c8b0c45-0301-4c61-b50d-9ddbd14526ba"
      },
      "execution_count": null,
      "outputs": [
        {
          "output_type": "stream",
          "name": "stdout",
          "text": [
            "The character with the highest pagerank is  YODA\n"
          ]
        }
      ]
    }
  ]
}